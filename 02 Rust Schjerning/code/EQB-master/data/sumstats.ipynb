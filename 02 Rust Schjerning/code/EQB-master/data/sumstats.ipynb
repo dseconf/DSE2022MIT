{
 "cells": [
  {
   "cell_type": "markdown",
   "metadata": {},
   "source": [
    "# Summary stats\n",
    "\n",
    "This notebook creates the table, `sumstats_demo.tex`, which is the Appendix table with summary statistics by each of the 8 demographic groups. "
   ]
  },
  {
   "cell_type": "code",
   "execution_count": 1,
   "metadata": {},
   "outputs": [],
   "source": [
    "import pandas as pd \n",
    "import numpy as np "
   ]
  },
  {
   "cell_type": "code",
   "execution_count": 2,
   "metadata": {},
   "outputs": [],
   "source": [
    "demo = pd.read_excel('8x4/demo.xlsx').query('year < 2009') # we do not use 2009"
   ]
  },
  {
   "cell_type": "code",
   "execution_count": 3,
   "metadata": {},
   "outputs": [],
   "source": [
    "wm = lambda x: np.average(x, weights=demo.loc[x.index, \"count\"])\n",
    "\n",
    "demo_g = demo.groupby('tau').agg(wm).drop('count', axis=1)\n",
    "demo_g.rename(columns={'age':'Age', 'bigcity1':'1(Urban)', 'nkids':'No. kids', 'real_inc':'Income', 'single':'1(Single)', 'wd':'Work distance'}, inplace=True)\n",
    "demo_g.drop(['year'],axis=1,inplace=True)\n",
    "demo_g.Income = demo_g.Income/1000\n",
    "demo_g['N'] = demo.groupby('tau')['count'].sum()    \n",
    "# change the order of the columns \n",
    "demo_g = demo_g.iloc[:, [6,3,4,5,0,1,2]]"
   ]
  },
  {
   "cell_type": "code",
   "execution_count": 4,
   "metadata": {},
   "outputs": [
    {
     "data": {
      "text/html": [
       "<div>\n",
       "<style scoped>\n",
       "    .dataframe tbody tr th:only-of-type {\n",
       "        vertical-align: middle;\n",
       "    }\n",
       "\n",
       "    .dataframe tbody tr th {\n",
       "        vertical-align: top;\n",
       "    }\n",
       "\n",
       "    .dataframe thead th {\n",
       "        text-align: right;\n",
       "    }\n",
       "</style>\n",
       "<table border=\"1\" class=\"dataframe\">\n",
       "  <thead>\n",
       "    <tr style=\"text-align: right;\">\n",
       "      <th></th>\n",
       "      <th>N</th>\n",
       "      <th>Income</th>\n",
       "      <th>1(Single)</th>\n",
       "      <th>Work distance</th>\n",
       "      <th>Age</th>\n",
       "      <th>1(Urban)</th>\n",
       "      <th>No. kids</th>\n",
       "    </tr>\n",
       "    <tr>\n",
       "      <th>tau</th>\n",
       "      <th></th>\n",
       "      <th></th>\n",
       "      <th></th>\n",
       "      <th></th>\n",
       "      <th></th>\n",
       "      <th></th>\n",
       "      <th></th>\n",
       "    </tr>\n",
       "  </thead>\n",
       "  <tbody>\n",
       "    <tr>\n",
       "      <th>1: Low WD, Couple, Poor</th>\n",
       "      <td>6667634</td>\n",
       "      <td>311.70</td>\n",
       "      <td>0.0</td>\n",
       "      <td>0.00</td>\n",
       "      <td>55.04</td>\n",
       "      <td>0.22</td>\n",
       "      <td>0.48</td>\n",
       "    </tr>\n",
       "    <tr>\n",
       "      <th>2: Low WD, Couple, Rich</th>\n",
       "      <td>6538448</td>\n",
       "      <td>777.44</td>\n",
       "      <td>0.0</td>\n",
       "      <td>0.00</td>\n",
       "      <td>46.38</td>\n",
       "      <td>0.21</td>\n",
       "      <td>1.03</td>\n",
       "    </tr>\n",
       "    <tr>\n",
       "      <th>3: Low WD, Single, Poor</th>\n",
       "      <td>7969411</td>\n",
       "      <td>109.92</td>\n",
       "      <td>1.0</td>\n",
       "      <td>0.00</td>\n",
       "      <td>54.21</td>\n",
       "      <td>0.35</td>\n",
       "      <td>0.11</td>\n",
       "    </tr>\n",
       "    <tr>\n",
       "      <th>4: Low WD, Single, Rich</th>\n",
       "      <td>7815269</td>\n",
       "      <td>301.23</td>\n",
       "      <td>1.0</td>\n",
       "      <td>0.00</td>\n",
       "      <td>48.22</td>\n",
       "      <td>0.33</td>\n",
       "      <td>0.20</td>\n",
       "    </tr>\n",
       "    <tr>\n",
       "      <th>5: High WD, Couple, Poor</th>\n",
       "      <td>4147914</td>\n",
       "      <td>494.67</td>\n",
       "      <td>0.0</td>\n",
       "      <td>34.63</td>\n",
       "      <td>40.59</td>\n",
       "      <td>0.12</td>\n",
       "      <td>0.99</td>\n",
       "    </tr>\n",
       "    <tr>\n",
       "      <th>6: High WD, Couple, Rich</th>\n",
       "      <td>3952150</td>\n",
       "      <td>862.57</td>\n",
       "      <td>0.0</td>\n",
       "      <td>42.14</td>\n",
       "      <td>43.57</td>\n",
       "      <td>0.12</td>\n",
       "      <td>1.21</td>\n",
       "    </tr>\n",
       "    <tr>\n",
       "      <th>7: High WD, Single, Poor</th>\n",
       "      <td>1228816</td>\n",
       "      <td>215.04</td>\n",
       "      <td>1.0</td>\n",
       "      <td>26.71</td>\n",
       "      <td>33.85</td>\n",
       "      <td>0.25</td>\n",
       "      <td>0.22</td>\n",
       "    </tr>\n",
       "    <tr>\n",
       "      <th>8: High WD, Single, Rich</th>\n",
       "      <td>1194766</td>\n",
       "      <td>413.36</td>\n",
       "      <td>1.0</td>\n",
       "      <td>32.98</td>\n",
       "      <td>41.15</td>\n",
       "      <td>0.22</td>\n",
       "      <td>0.24</td>\n",
       "    </tr>\n",
       "  </tbody>\n",
       "</table>\n",
       "</div>"
      ],
      "text/plain": [
       "                                N  Income  1(Single)  Work distance    Age  \\\n",
       "tau                                                                          \n",
       "1: Low WD, Couple, Poor   6667634  311.70        0.0           0.00  55.04   \n",
       "2: Low WD, Couple, Rich   6538448  777.44        0.0           0.00  46.38   \n",
       "3: Low WD, Single, Poor   7969411  109.92        1.0           0.00  54.21   \n",
       "4: Low WD, Single, Rich   7815269  301.23        1.0           0.00  48.22   \n",
       "5: High WD, Couple, Poor  4147914  494.67        0.0          34.63  40.59   \n",
       "6: High WD, Couple, Rich  3952150  862.57        0.0          42.14  43.57   \n",
       "7: High WD, Single, Poor  1228816  215.04        1.0          26.71  33.85   \n",
       "8: High WD, Single, Rich  1194766  413.36        1.0          32.98  41.15   \n",
       "\n",
       "                          1(Urban)  No. kids  \n",
       "tau                                           \n",
       "1: Low WD, Couple, Poor       0.22      0.48  \n",
       "2: Low WD, Couple, Rich       0.21      1.03  \n",
       "3: Low WD, Single, Poor       0.35      0.11  \n",
       "4: Low WD, Single, Rich       0.33      0.20  \n",
       "5: High WD, Couple, Poor      0.12      0.99  \n",
       "6: High WD, Couple, Rich      0.12      1.21  \n",
       "7: High WD, Single, Poor      0.25      0.22  \n",
       "8: High WD, Single, Rich      0.22      0.24  "
      ]
     },
     "execution_count": 4,
     "metadata": {},
     "output_type": "execute_result"
    }
   ],
   "source": [
    "#Add names for the household types \n",
    "tau_names = [f'{wd} WD, {c}, {y}' for wd in ['Low', 'High'] for c in ['Couple', 'Single'] for y in ['Poor', 'Rich']]\n",
    "demo_g.rename(index={i+1:f'{i+1}: {tau_names[i]}' for i in range(8)}, inplace=True)\n",
    "tab = demo_g.round(2).rename(columns={'tw':'Share'})\n",
    "tab"
   ]
  },
  {
   "cell_type": "code",
   "execution_count": 5,
   "metadata": {},
   "outputs": [
    {
     "name": "stderr",
     "output_type": "stream",
     "text": [
      "/var/folders/6x/6q6_rj9s6ybb4wgn0xy1ddqw0000gr/T/ipykernel_25583/2849413882.py:1: FutureWarning: In future versions `DataFrame.to_latex` is expected to utilise the base implementation of `Styler.to_latex` for formatting and rendering. The arguments signature may therefore change. It is recommended instead to use `DataFrame.style.to_latex` which also contains additional functionality.\n",
      "  tab.to_latex('sumstats_demo.tex')\n"
     ]
    }
   ],
   "source": [
    "tab.to_latex('sumstats_demo.tex')"
   ]
  }
 ],
 "metadata": {
  "kernelspec": {
   "display_name": "Python 3.9.12 ('base')",
   "language": "python",
   "name": "python3"
  },
  "language_info": {
   "codemirror_mode": {
    "name": "ipython",
    "version": 3
   },
   "file_extension": ".py",
   "mimetype": "text/x-python",
   "name": "python",
   "nbconvert_exporter": "python",
   "pygments_lexer": "ipython3",
   "version": "3.9.12"
  },
  "vscode": {
   "interpreter": {
    "hash": "e7ef7752b9d222ab85cf371bf16cc46072f3dba5ca98ad8dcbfc17c85dfff416"
   }
  }
 },
 "nbformat": 4,
 "nbformat_minor": 4
}
